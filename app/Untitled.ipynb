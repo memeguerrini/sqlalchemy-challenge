{
 "cells": [
  {
   "cell_type": "code",
   "execution_count": 1,
   "id": "8a53cd57",
   "metadata": {},
   "outputs": [],
   "source": [
    "# Import Flask\n",
    "from flask import Flask, jsonify"
   ]
  },
  {
   "cell_type": "code",
   "execution_count": 2,
   "id": "06de6a8b",
   "metadata": {},
   "outputs": [],
   "source": [
    "#Import Dependancies\n",
    "import numpy as np\n",
    "import datetime as dt\n",
    "import sqlalchemy\n",
    "from sqlalchemy.ext.automap import automap_base\n",
    "from sqlalchemy.orm import Session\n",
    "from sqlalchemy import create_engine, func"
   ]
  },
  {
   "cell_type": "code",
   "execution_count": 3,
   "id": "628234fd",
   "metadata": {},
   "outputs": [],
   "source": [
    "from sqlalchemy.engine import create_engine"
   ]
  },
  {
   "cell_type": "code",
   "execution_count": 4,
   "id": "4b2a6308",
   "metadata": {},
   "outputs": [],
   "source": [
    "engine = create_engine(\"sqlite:///../hawaii.sqlite\")"
   ]
  },
  {
   "cell_type": "code",
   "execution_count": 5,
   "id": "9d40a90d",
   "metadata": {},
   "outputs": [],
   "source": [
    "# Reflect Existing Database Into a New Model\n",
    "Base = automap_base()\n",
    "# Reflect the Tables\n",
    "Base.prepare(engine, reflect=True)"
   ]
  },
  {
   "cell_type": "code",
   "execution_count": 6,
   "id": "4d268396",
   "metadata": {},
   "outputs": [],
   "source": [
    "session = Session(engine)"
   ]
  },
  {
   "cell_type": "code",
   "execution_count": 7,
   "id": "51e808b1",
   "metadata": {},
   "outputs": [],
   "source": [
    "# Flask Setup\n",
    "app = Flask(__name__)"
   ]
  },
  {
   "cell_type": "code",
   "execution_count": null,
   "id": "83740e6b",
   "metadata": {},
   "outputs": [],
   "source": [
    "# Save References to Each Table\n",
    "measurement = Base.classes.measurement\n",
    "station = Base.classes.station"
   ]
  },
  {
   "cell_type": "code",
   "execution_count": 8,
   "id": "80cb555c",
   "metadata": {},
   "outputs": [],
   "source": [
    "# Flask Route Setup\n",
    "@app.route(\"/\")\n",
    "def main():\n",
    "    \"\"\"Lists all available routes.\"\"\"\n",
    "    return (\n",
    "        f\"Available Routes:<br/>\"\n",
    "        f\"/api/v1.0/precipitation<br/>\"\n",
    "        f\"/api/v1.0/stations<br/>\"\n",
    "        f\"/api/v1.0/tobs<br/>\"\n",
    "        f\"/api/v1.0/start<br/>\"\n",
    "        f\"/api/v1.0/start/end\"\n",
    "    )"
   ]
  },
  {
   "cell_type": "code",
   "execution_count": 9,
   "id": "db08f3ae",
   "metadata": {},
   "outputs": [],
   "source": [
    "# Create Precipitation Route\n",
    "@app.route(\"/api/v1.0/precipitation\")\n",
    "def precipitation():\n",
    "        previous_year = dt.date(2017,8,23) - dt.timedelta(days=365)\n",
    "        # Design a Query to Retrieve the Last 12 Months of Precipitation Data Selecting Only the `date` and `prcp` Values\n",
    "        previous_year_prcp = session.query(Measurement.date, Measurement.prcp).\\\n",
    "                filter(Measurement.date >= previous_year).\\\n",
    "                order_by(Measurement.date).all()\n",
    "        session.close()\n",
    "        # Convert  Into a Dictionary\n",
    "        previous_year_prcp_list = dict(previous_year_prcp)\n",
    "        return jsonify(previous_year_prcp_list)\n",
    "        "
   ]
  },
  {
   "cell_type": "code",
   "execution_count": 10,
   "id": "91e359c8",
   "metadata": {},
   "outputs": [],
   "source": [
    "# Create Station Route\n",
    "@app.route(\"/api/v1.0/stations\")\n",
    "def stations():\n",
    "        # Return JSON List of Stations \n",
    "        all_stations = session.query(Station.station, Station.name).all()\n",
    "        session.close()\n",
    "        # Unravel results into a 1D array and convert to a list\n",
    "        station_list=list(np.ravel(all_stations))\n",
    "        return jsonify(station_list)"
   ]
  },
  {
   "cell_type": "code",
   "execution_count": 13,
   "id": "06da9311",
   "metadata": {},
   "outputs": [],
   "source": [
    "# Create TOBs Route\n",
    "@app.route(\"/api/v1.0/tobs\")\n",
    "def tobs():\n",
    "#Query the primary station for all tobs from the last year\n",
    " prev_year = dt.date(2017,8,23) - dt.timedelta(days=365)\n",
    " results = session.query(Measurement.tobs).\\\n",
    "       filter(Measurement.station == 'USC00519281').\\\n",
    "       filter(Measurement.date >= prev_year).all()\n",
    "   # Unravel results into a 1D array and convert to a list\n",
    " temps = list(np.ravel(results))\n",
    "   # Return the results\n",
    " return jsonify(temps=temps)"
   ]
  },
  {
   "cell_type": "code",
   "execution_count": 14,
   "id": "77296527",
   "metadata": {},
   "outputs": [],
   "source": [
    "@app.route(\"/api/v1.0/<start>\")\n",
    "@app.route(\"/api/v1.0/<start>/<end>\")\n",
    "def stats(start=None, end=None):\n",
    "   \"\"\"Return TMIN, TAVG, TMAX.\"\"\"\n",
    "   # Select statement\n",
    "   sel = [func.min(Measurement.tobs), func.avg(Measurement.tobs), func.max(Measurement.tobs)]\n",
    "   if not end:\n",
    "       # calculate TMIN, TAVG, TMAX for dates greater than start\n",
    "       results = session.query(*sel).\\\n",
    "           filter(Measurement.date >= start).all()\n",
    "       # Unravel results into a 1D array and convert to a list\n",
    "       temps = list(np.ravel(results))\n",
    "       return jsonify(temps)"
   ]
  },
  {
   "cell_type": "code",
   "execution_count": 20,
   "id": "833fe62d",
   "metadata": {},
   "outputs": [
    {
     "ename": "IndentationError",
     "evalue": "unexpected indent (<ipython-input-20-0db1c3bddee5>, line 7)",
     "output_type": "error",
     "traceback": [
      "\u001b[1;36m  File \u001b[1;32m\"<ipython-input-20-0db1c3bddee5>\"\u001b[1;36m, line \u001b[1;32m7\u001b[0m\n\u001b[1;33m    temps = list(np.ravel(results))\u001b[0m\n\u001b[1;37m    ^\u001b[0m\n\u001b[1;31mIndentationError\u001b[0m\u001b[1;31m:\u001b[0m unexpected indent\n"
     ]
    }
   ],
   "source": [
    "# calculate TMIN, TAVG, TMAX with start and stop\n",
    "results = session.query(*sel).\\\n",
    "       filter(measurement.date >= start).\\\n",
    "       filter(measurement.date <= end).all()\n",
    "    \n",
    " # Unravel results into a 1D array and convert to a list\n",
    "   temps = list(np.ravel(results))\n",
    "   return jsonify(temps=temps)\n",
    "if __name__ == '__main__':\n",
    "   app.run()\n"
   ]
  },
  {
   "cell_type": "code",
   "execution_count": null,
   "id": "d10eb428",
   "metadata": {},
   "outputs": [],
   "source": []
  }
 ],
 "metadata": {
  "kernelspec": {
   "display_name": "Python 3",
   "language": "python",
   "name": "python3"
  },
  "language_info": {
   "codemirror_mode": {
    "name": "ipython",
    "version": 3
   },
   "file_extension": ".py",
   "mimetype": "text/x-python",
   "name": "python",
   "nbconvert_exporter": "python",
   "pygments_lexer": "ipython3",
   "version": "3.6.13"
  }
 },
 "nbformat": 4,
 "nbformat_minor": 5
}
